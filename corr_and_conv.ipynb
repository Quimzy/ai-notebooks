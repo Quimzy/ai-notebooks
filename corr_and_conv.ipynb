{
 "cells": [
  {
   "cell_type": "code",
   "execution_count": 2,
   "id": "5195e4ac",
   "metadata": {},
   "outputs": [],
   "source": [
    "import numpy as np"
   ]
  },
  {
   "cell_type": "code",
   "execution_count": 3,
   "id": "2372f0cc",
   "metadata": {},
   "outputs": [],
   "source": [
    "## cross correlation"
   ]
  },
  {
   "cell_type": "code",
   "execution_count": 21,
   "id": "6524a770",
   "metadata": {},
   "outputs": [],
   "source": [
    "#generating arrays\n",
    "\n",
    "A = np.arange(1, 10)\n",
    "\n",
    "F = np.arange(11, 20) #Filter (should it be bigger?)"
   ]
  },
  {
   "cell_type": "code",
   "execution_count": 24,
   "id": "828c8f97",
   "metadata": {},
   "outputs": [
    {
     "name": "stdout",
     "output_type": "stream",
     "text": [
      "[735]\n"
     ]
    }
   ],
   "source": [
    "#with numpy (damn, this is easy)\n",
    "x= np.correlate(A, F)\n",
    "print(x)"
   ]
  },
  {
   "cell_type": "code",
   "execution_count": 25,
   "id": "e1ecbe36",
   "metadata": {},
   "outputs": [],
   "source": [
    "#from scratch (the hard part)"
   ]
  }
 ],
 "metadata": {
  "kernelspec": {
   "display_name": "Python 3 (ipykernel)",
   "language": "python",
   "name": "python3"
  },
  "language_info": {
   "codemirror_mode": {
    "name": "ipython",
    "version": 3
   },
   "file_extension": ".py",
   "mimetype": "text/x-python",
   "name": "python",
   "nbconvert_exporter": "python",
   "pygments_lexer": "ipython3",
   "version": "3.8.10"
  }
 },
 "nbformat": 4,
 "nbformat_minor": 5
}
